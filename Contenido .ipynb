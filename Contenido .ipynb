{
 "cells": [
  {
   "cell_type": "markdown",
   "metadata": {},
   "source": [
    "<h1 align='center'> Clasificación of stars, Galaxies and Quasars </h1> \n",
    "\n",
    "\n",
    "Para dar solución a una máquina que logre clsificar las imágenes del Sloan Digital Sky Survey DR14, se realizan diferentes modelos de clasificación, los cuales están descritos paso por paso.\n",
    "\n",
    "\n",
    "\n",
    "\n",
    "<h3>Lenguaje de Programación </h3>\n",
    "\n",
    "Python 3.7"
   ]
  },
  {
   "cell_type": "markdown",
   "metadata": {},
   "source": [
    "<h2 align='center'> Contenido</h2>\n",
    "\n",
    "<h3>  Preprocesamiento </h3>\n",
    "\n",
    "1. [Ingenieria de características.](./Cuadernos/t2_Feature_Ingeniering.ipynb)\n",
    "\n",
    "<h3>  Modelamiento</h3>\n",
    "\n",
    "2. [Arbol de clasificación simple](./Cuadernos/t2_Arbol_de_Clasificacion.ipynb).\n",
    "3. [Clasificación multinomial](./Cuadernos/t2_Clasificacion_Multinomial.ipynb).\n",
    "4. [AdaBoost](./Cuadernos/t2_AdaBoost.ipynb).\n"
   ]
  },
  {
   "cell_type": "code",
   "execution_count": null,
   "metadata": {},
   "outputs": [],
   "source": []
  },
  {
   "cell_type": "markdown",
   "metadata": {},
   "source": [
    "<h3>Referencias</h3>\n",
    "\n",
    "1.  Christofer. M. Bishop, *Pattern Recognition and machine Learning*, first edition,Springer, 2006"
   ]
  },
  {
   "cell_type": "code",
   "execution_count": null,
   "metadata": {},
   "outputs": [],
   "source": []
  }
 ],
 "metadata": {
  "kernelspec": {
   "display_name": "Python 3",
   "language": "python",
   "name": "python3"
  },
  "language_info": {
   "codemirror_mode": {
    "name": "ipython",
    "version": 3
   },
   "file_extension": ".py",
   "mimetype": "text/x-python",
   "name": "python",
   "nbconvert_exporter": "python",
   "pygments_lexer": "ipython3",
   "version": "3.7.4"
  }
 },
 "nbformat": 4,
 "nbformat_minor": 4
}
